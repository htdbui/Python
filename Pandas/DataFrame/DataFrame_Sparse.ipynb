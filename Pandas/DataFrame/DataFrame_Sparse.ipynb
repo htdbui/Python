{
 "cells": [
  {
   "cell_type": "markdown",
   "id": "4243f815-585c-49d8-8524-8862a0ee0cee",
   "metadata": {},
   "source": [
    "<h1 style=\"font-size:60px;font-weight:bold;\">Sparse Accessor</h1>\n",
    "\n",
    "__DataFrame.sparse.density__\n",
    "```\n",
    "df1 = pd.DataFrame({'a': [0, 1, 0, 0], 'b': [0, 0, 1, 0], 'c': [0, 0, 0, 1]})\n",
    "df_sparse = df1.sparse.to_coo()\n",
    "df_sparse.density\n",
    "```\n",
    "\n",
    "__DataFrame.sparse.from_spmatrix(data[, ...])__\n",
    "```\n",
    "import numpy as np\n",
    "from scipy.sparse import csr_matrix\n",
    "\n",
    "data = np.array([[0, 0, 0], [0, 2, 0], [0, 0, 3], [4, 0, 0]])\n",
    "df_sparse = pd.DataFrame.sparse.from_spmatrix(csr_matrix(data))\n",
    "```\n",
    "\n",
    "__DataFrame.sparse.to_coo()__\n",
    "```\n",
    "df1 = pd.DataFrame({'a': [0, 1, 0, 0], 'b': [0, 0, 1, 0], 'c': [0, 0, 0, 1]})\n",
    "df_sparse = df1.sparse.to_coo()\n",
    "```\n",
    "\n",
    "__DataFrame.sparse.to_dense()__\n",
    "```\n",
    "df1 = pd.DataFrame({'a': [0, 1, 0, 0], 'b': [0, 0, 1, 0], 'c': [0, 0, 0, 1]})\n",
    "df_sparse = df1.sparse.to_coo()\n",
    "df_dense = df_sparse.toarray()\n",
    "```"
   ]
  }
 ],
 "metadata": {
  "kernelspec": {
   "display_name": "Python 3 (ipykernel)",
   "language": "python",
   "name": "python3"
  },
  "language_info": {
   "codemirror_mode": {
    "name": "ipython",
    "version": 3
   },
   "file_extension": ".py",
   "mimetype": "text/x-python",
   "name": "python",
   "nbconvert_exporter": "python",
   "pygments_lexer": "ipython3",
   "version": "3.10.10"
  }
 },
 "nbformat": 4,
 "nbformat_minor": 5
}
