{
 "cells": [
  {
   "cell_type": "markdown",
   "id": "5973d7d7-a8a9-4059-bdf9-1a53aa7d5916",
   "metadata": {
    "jp-MarkdownHeadingCollapsed": true,
    "tags": []
   },
   "source": [
    "<h1 style=\"font-size:60px;font-weight:bold;\">Application, GroupBy, Window</h1>\n",
    "\n",
    "__DataFrame.apply(func[, axis, raw, ...])__\n",
    "```\n",
    "df1 = pd.DataFrame({'a': [1, 2, 3], 'b': [4, 5, 6]})\n",
    "df1.apply(lambda x: x**2)\n",
    "```\n",
    "\n",
    "__DataFrame.applymap(func[, na_action])__\n",
    "```\n",
    "df1 = pd.DataFrame({'a': [1, 2, 3], 'b': [4, 5, 6]})\n",
    "df1.applymap(lambda x: x**2)\n",
    "```\n",
    "\n",
    "__DataFrame.pipe(func, *args, **kwargs)__\n",
    "```\n",
    "df1 = pd.DataFrame({'a': [1, 2, 3], 'b': [4, 5, 6]})\n",
    "def add_one(df):\n",
    "    return df.apply(lambda x: x+1)\n",
    "df1.pipe(add_one)\n",
    "```\n",
    "\n",
    "__DataFrame.agg([func, axis])__\n",
    "```\n",
    "df1 = pd.DataFrame({'a': [1, 2, 3], 'b': [4, 5, 6]})\n",
    "df1.agg(['sum', 'min'])\n",
    "```\n",
    "\n",
    "__DataFrame.aggregate([func, axis])__\n",
    "```\n",
    "df1 = pd.DataFrame({'a': [1, 2, 3], 'b': [4, 5, 6]})\n",
    "df1.aggregate(['sum', 'min'])\n",
    "```\n",
    "\n",
    "__DataFrame.transform(func[, axis])__\n",
    "```\n",
    "df1 = pd.DataFrame({'a': [1, 2, 3], 'b': [4, 5, 6]})\n",
    "df1.transform(lambda x: x**2)\n",
    "```\n",
    "\n",
    "__DataFrame.groupby([by, axis, level, ...])__\n",
    "```\n",
    "df1 = pd.DataFrame({'a': [1, 2, 3], 'b': [4, 5, 6], 'c': [1, 1, 2]})\n",
    "df1.groupby('c').sum()\n",
    "```\n",
    "\n",
    "__DataFrame.rolling(window[, min_periods, ...])__\n",
    "```\n",
    "df1 = pd.DataFrame({'a': [1, 2, 3, 4, 5], 'b': [2, 4, 6, 8, 10]})\n",
    "df1.rolling(window=2).sum()\n",
    "```\n",
    "\n",
    "__DataFrame.expanding([min_periods, axis, method])__\n",
    "```\n",
    "df1 = pd.DataFrame({'a': [1, 2, 3, 4, 5], 'b': [2, 4, 6, 8, 10]})\n",
    "df1.expanding().sum()\n",
    "```\n",
    "\n",
    "__DataFrame.ewm([com, span, halflife, alpha, ...])__\n",
    "```\n",
    "df1 = pd.DataFrame({'a': [1, 2, 3, 4, 5], 'b': [2, 4, 6, 8, 10]})\n",
    "df1.ewm(com=0.5).mean()\n",
    "```"
   ]
  }
 ],
 "metadata": {
  "kernelspec": {
   "display_name": "Python 3 (ipykernel)",
   "language": "python",
   "name": "python3"
  },
  "language_info": {
   "codemirror_mode": {
    "name": "ipython",
    "version": 3
   },
   "file_extension": ".py",
   "mimetype": "text/x-python",
   "name": "python",
   "nbconvert_exporter": "python",
   "pygments_lexer": "ipython3",
   "version": "3.10.10"
  }
 },
 "nbformat": 4,
 "nbformat_minor": 5
}
