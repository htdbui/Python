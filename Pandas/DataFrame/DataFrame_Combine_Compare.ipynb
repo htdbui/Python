{
 "cells": [
  {
   "cell_type": "markdown",
   "id": "02f66a33-56a4-4926-97f3-ec96d2e1b1b9",
   "metadata": {},
   "source": [
    "<h1 style=\"font-size:60px;font-weight:bold;\">Combining / Comparing / Joining / Merging</h1>\n",
    "\n",
    "__DataFrame.assign(**kwargs)__\n",
    "```\n",
    "df1 = pd.DataFrame({'a': [1, 2, 3], 'b': [4, 5, 6]})\n",
    "df2 = df1.assign(c=[7, 8, 9], d=[10, 11, 12])\n",
    "```\n",
    "\n",
    "__DataFrame.compare(other[, align_axis, ...])__\n",
    "```\n",
    "df1 = pd.DataFrame({'a': [1, 2, 3], 'b': [4, 5, 6]})\n",
    "df2 = pd.DataFrame({'a': [1, 4, 3], 'b': [4, 5, 7]})\n",
    "df1.compare(df2)\n",
    "```\n",
    "\n",
    "__DataFrame.join(other[, on, how, lsuffix, ...])__\n",
    "```\n",
    "df1 = pd.DataFrame({'key': ['A', 'B', 'C', 'D'], 'value': [1, 2, 3, 4]})\n",
    "df2 = pd.DataFrame({'key': ['B', 'D', 'E', 'F'], 'value': [5, 6, 7, 8]})\n",
    "df1.join(df2, lsuffix='_left', rsuffix='_right', how='outer')\n",
    "```\n",
    "\n",
    "__DataFrame.merge(right[, how, on, left_on, ...])__\n",
    "```\n",
    "df1 = pd.DataFrame({'key': ['A', 'B', 'C', 'D'], 'value': [1, 2, 3, 4]})\n",
    "df2 = pd.DataFrame({'key': ['B', 'D', 'E', 'F'], 'value': [5, 6, 7, 8]})\n",
    "df1.merge(df2, on='key', how='outer')\n",
    "```\n",
    "\n",
    "__DataFrame.update(other[, join, overwrite, ...])__\n",
    "```\n",
    "df1 = pd.DataFrame({'a': [1, 2, 3], 'b': [4, 5, 6]})\n",
    "df2 = pd.DataFrame({'a': [1, 2, 3], 'b': [7, 8, 9]})\n",
    "df1.update(df2)\n",
    "```"
   ]
  }
 ],
 "metadata": {
  "kernelspec": {
   "display_name": "Python 3 (ipykernel)",
   "language": "python",
   "name": "python3"
  },
  "language_info": {
   "codemirror_mode": {
    "name": "ipython",
    "version": 3
   },
   "file_extension": ".py",
   "mimetype": "text/x-python",
   "name": "python",
   "nbconvert_exporter": "python",
   "pygments_lexer": "ipython3",
   "version": "3.10.10"
  }
 },
 "nbformat": 4,
 "nbformat_minor": 5
}
