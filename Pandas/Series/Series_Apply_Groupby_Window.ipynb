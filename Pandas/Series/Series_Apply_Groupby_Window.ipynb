{
 "cells": [
  {
   "cell_type": "markdown",
   "id": "87e43915-c2b7-4ab2-8c17-627e7cf45590",
   "metadata": {
    "tags": []
   },
   "source": [
    "<h1 style=\"font-size:60px;font-weight:bold;\">Application, GroupBy, Window</h1>\n",
    "\n",
    "```\n",
    "s = pd.Series([1, 2, 3, 4, 5])\n",
    "```\n",
    "__Series.apply(func\\[, convert_dtype, args\\])__\n",
    "```\n",
    "s.apply(lambda x: x**2)\n",
    "```\n",
    "__Series.agg(\\[func, axis\\])__\n",
    "```\n",
    "s.agg(['sum', 'mean'])\n",
    "```\n",
    "__Series.aggregate(\\[func, axis\\])__: same as Series.agg() <br>\n",
    "__Series.transform(func\\[, axis\\])__\n",
    "```\n",
    "s.transform([np.sqrt, np.exp])\n",
    "```\n",
    "__Series.map(arg, na_action=None)__\n",
    "```\n",
    "s2 = pd.Series(['cat', 'dog', np.nan, 'rabbit'])\n",
    "s2.map({'cat': 'kitten', 'dog': 'puppy'})\n",
    "```\n",
    "__Series.groupby(\\[by, axis, level, as_index, ...\\])__\n",
    "```\n",
    "s.groupby(lambda x: x % 2 == 0).count()\n",
    "---\n",
    "s.groupby(['a', 'b', 'a', 'b', 'a']).mean()\n",
    "```\n",
    "__Series.rolling(window\\[, min_periods, ...\\])__\n",
    "```\n",
    "s.rolling(window=2).sum()\n",
    "```\n",
    "__Series.expanding(\\[min_periods, axis, method\\])__\n",
    "```\n",
    "s.expanding().sum()\n",
    "```\n",
    "__Series.ewm(\\[com, span, halflife, alpha, ...\\])__: return exponentially weighted statistics\n",
    "```\n",
    "s.ewm(alpha=0.5).mean()\n",
    "```\n",
    "__Series.pipe(func, *args, **kwargs)__\n",
    "```\n",
    "def add_2(series):\n",
    "    return series.add(2)\n",
    "def square(series):\n",
    "    return series.apply(lambda x: x**2)\n",
    "s.pipe(add_2).pipe(square)\n",
    "```"
   ]
  }
 ],
 "metadata": {
  "kernelspec": {
   "display_name": "Python 3 (ipykernel)",
   "language": "python",
   "name": "python3"
  },
  "language_info": {
   "codemirror_mode": {
    "name": "ipython",
    "version": 3
   },
   "file_extension": ".py",
   "mimetype": "text/x-python",
   "name": "python",
   "nbconvert_exporter": "python",
   "pygments_lexer": "ipython3",
   "version": "3.10.10"
  }
 },
 "nbformat": 4,
 "nbformat_minor": 5
}
