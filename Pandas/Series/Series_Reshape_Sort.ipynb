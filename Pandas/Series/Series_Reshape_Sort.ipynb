{
 "cells": [
  {
   "cell_type": "markdown",
   "id": "6649d1d1-bf2c-4a6c-b08a-874409a83dae",
   "metadata": {},
   "source": [
    "<h1 style=\"font-size:60px;font-weight:bold;\">Reshaping, Sorting</h1>\n",
    "\n",
    "__Series.explode([ignore_index])__: return a new Series\n",
    "```\n",
    "s = pd.Series([[1, 2, 3], [4, 5], [6], []])\n",
    "s.explode()\n",
    "```\n",
    "__Series.sort_values(*[, axis, ascending, ...])__: return a new Series\n",
    "```\n",
    "s = pd.Series([3, 1, 4, 1, 5, 9, 2])\n",
    "s.sort_values()\n",
    "```\n",
    "__Series.sort_index(*[, axis, level, ...])__: return a new Series\n",
    "```\n",
    "s = pd.Series([3, 1, 4, 1, 5, 9, 2], index=['b', 'a', 'c', 'd', 'f', 'e', 'g'])\n",
    "s.sort_index()\n",
    "```\n",
    "__Series.swaplevel([i, j, copy])__: return a new Series\n",
    "```\n",
    "s = pd.Series([3, 1, 4, 1, 5, 9, 2], index=[['b', 'a', 'c', 'd', 'f', 'e', 'g'], [0, 1, 0, 1, 0, 1, 0]])\n",
    "s.swaplevel()\n",
    "```\n",
    "__Series.unstack([level, fill_value])__: return a new DataFrame\n",
    "```\n",
    "s = pd.Series([3, 1, 4, 1, 5, 9, 2], index=[['b', 'a', 'c', 'd', 'f', 'e', 'g'], [0, 1, 0, 1, 0, 1, 0]])\n",
    "s.unstack()\n",
    "```\n",
    "__Series.searchsorted(value[, side, sorter])__: return the index\n",
    "```\n",
    "s = pd.Series([1, 2, 3, 4, 5])\n",
    "s.searchsorted(3)\n",
    "```\n",
    "__Series.ravel([order])__: return a flattened array of the Series\n",
    "```\n",
    "s = pd.Series([[1, 2], [3, 4]])\n",
    "s.ravel()\n",
    "```\n",
    "__Series.repeat(repeats[, axis])__: return a new Series\n",
    "```\n",
    "s = pd.Series([1, 2, 3])\n",
    "s.repeat(2)\n",
    "```\n",
    "__Series.view([dtype])`:__: return a view\n",
    "```\n",
    "s = pd.Series([1, 2, 3])\n",
    "s.view('float64')\n",
    "```"
   ]
  },
  {
   "cell_type": "markdown",
   "id": "2d061947-af3c-4732-838f-e8c9d7e04be9",
   "metadata": {},
   "source": [
    "<h1 style=\"font-size:60px;font-weight:bold;\">Combining / Comparing / Joining / merging</h1>\n",
    "\n",
    "__Series.update(other)__\n",
    "```\n",
    "s1 = pd.Series([1, 2, 3, 4])\n",
    "s2 = pd.Series([2, 2, 4, 4], index=[0, 1, 2, 3])\n",
    "s1.update(s2)\n",
    "```\n",
    "__Series.compare(other[, align_axis, ...])__\n",
    "```\n",
    "s1 = pd.Series([1, 2, 3, 4])\n",
    "s2 = pd.Series([2, 2, 4, 4])\n",
    "s1.compare(s2)\n",
    "```\n"
   ]
  }
 ],
 "metadata": {
  "kernelspec": {
   "display_name": "Python 3 (ipykernel)",
   "language": "python",
   "name": "python3"
  },
  "language_info": {
   "codemirror_mode": {
    "name": "ipython",
    "version": 3
   },
   "file_extension": ".py",
   "mimetype": "text/x-python",
   "name": "python",
   "nbconvert_exporter": "python",
   "pygments_lexer": "ipython3",
   "version": "3.10.10"
  }
 },
 "nbformat": 4,
 "nbformat_minor": 5
}
