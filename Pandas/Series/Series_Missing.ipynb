{
 "cells": [
  {
   "cell_type": "markdown",
   "id": "91656c65-ec7a-4ace-8608-3fd872826e16",
   "metadata": {},
   "source": [
    "<h1 style=\"font-size:60px;font-weight:bold;\">Missing data handling</h1>\n",
    "\n",
    "__Series.backfill(*[, axis, inplace, limit, ...]) and Series.bfill(*[, axis, inplace, limit, downcast])__: return a new Series (filled with backward)\n",
    "```\n",
    "s = pd.Series([1, np.nan, 2, np.nan, 3])\n",
    "s.backfill()\n",
    "s.bfill()\n",
    "```\n",
    "__Series.dropna(*[, axis, inplace, how, ...])__: return a new Series\n",
    "```\n",
    "s = pd.Series([1, np.nan, 2, np.nan, 3])\n",
    "s.dropna()\n",
    "```\n",
    "__Series.ffill(*[, axis, inplace, limit, downcast])__: return a new Series\n",
    "```\n",
    "s = pd.Series([1, np.nan, 2, np.nan, 3])\n",
    "s.ffill()\n",
    "```\n",
    "__Series.fillna([value, method, axis, ...])__: return a new Series\n",
    "```\n",
    "s = pd.Series([1, np.nan, 2, np.nan, 3])\n",
    "s.fillna(method='ffill')\n",
    "```\n",
    "__Series.interpolate([method, axis, limit, ...])__: return a new Series\n",
    "```\n",
    "s = pd.Series([1, np.nan, 2, np.nan, 3])\n",
    "s.interpolate()\n",
    "```\n",
    "__Series.isna()__: return a new Series\n",
    "```\n",
    "s = pd.Series([1, np.nan, None, 'a'])\n",
    "s.isna()\n",
    "```\n",
    "__Series.notna()__: return a new Series\n",
    "```\n",
    "s = pd.Series([1, np.nan, None, 'a'])\n",
    "s.notna()\n",
    "```\n",
    "__Series.pad(*[, axis, inplace, limit, downcast])__: return a new Series (filled with forward)\n",
    "```\n",
    "s = pd.Series([1, np.nan, None, 'a'])\n",
    "s.pad()\n",
    "```\n",
    "__Series.replace([to_replace, value, inplace, ...])__: return a new Series\n",
    "```\n",
    "s = pd.Series([1, 2, 3, 4, 5])\n",
    "s.replace(3, np.nan)\n",
    "```"
   ]
  }
 ],
 "metadata": {
  "kernelspec": {
   "display_name": "Python 3 (ipykernel)",
   "language": "python",
   "name": "python3"
  },
  "language_info": {
   "codemirror_mode": {
    "name": "ipython",
    "version": 3
   },
   "file_extension": ".py",
   "mimetype": "text/x-python",
   "name": "python",
   "nbconvert_exporter": "python",
   "pygments_lexer": "ipython3",
   "version": "3.10.10"
  }
 },
 "nbformat": 4,
 "nbformat_minor": 5
}
