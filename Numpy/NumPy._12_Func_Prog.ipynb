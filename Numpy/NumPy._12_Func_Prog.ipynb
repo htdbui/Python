{
 "cells": [
  {
   "cell_type": "markdown",
   "id": "05f55500-3099-4441-812c-360e76911b59",
   "metadata": {},
   "source": [
    "<h1 style=\"font-size:60px;font-weight:bold;\">apply_along_axis</h1>\n",
    "\n",
    "    a = [[8,1,7,2], [4,3,9,1], [5,2,6,3]]\n",
    "    np.apply_along_axis(sum, 1, a)\n",
    "    np.apply_along_axis(sum, 0, a)\n",
    "    np.apply_along_axis(sorted, 1, a)\n",
    "    np.apply_along_axis(sorted, 0, a)    "
   ]
  },
  {
   "cell_type": "markdown",
   "id": "d4bfdf10-c7c0-47a3-b0b7-56a6e4dc45d0",
   "metadata": {},
   "source": [
    "<h1 style=\"font-size:60px;font-weight:bold;\">apply_over_axes</h1>\n",
    "\n",
    "    a = np.array([ [[1,2],[3,4]], [[5,6],[7,8]] ]) \n",
    "    np.apply_over_axes(np.sum, a, [0])\n",
    "    np.apply_over_axes(np.sum, a, [1])\n",
    "    np.apply_over_axes(np.sum, a, [1])\n",
    "    np.apply_over_axes(np.sum, a, [1])"
   ]
  },
  {
   "cell_type": "markdown",
   "id": "1f9d85f3-c17f-476c-8d93-4a93915f19b2",
   "metadata": {},
   "source": [
    "<h1 style=\"font-size:60px;font-weight:bold;\">vectorize</h1>\n",
    "\n",
    "    - make a function become a vectorizing function\n",
    "    def function(a, b):\n",
    "        return a + b\n",
    "    vec_func = np.vectorize(function)\n",
    "    a = [1, 2, 3]\n",
    "    b = 4\n",
    "    vec_func(a, b)\n",
    "    # note: a + b cause TypeError"
   ]
  },
  {
   "cell_type": "markdown",
   "id": "8a645302-19cd-4c27-af1a-38ef98d668e9",
   "metadata": {},
   "source": [
    "<h1 style=\"font-size:60px;font-weight:bold;\">frompyfunc</h1>\n",
    "\n",
    "    - make a function become a NumPy universal function\n",
    "    def function(x):\n",
    "        return x * 2\n",
    "    univ_func1 = np.frompyfunc(function, nin=1, nout=1)\n",
    "    # explain: nin: number of inputs, nout: number of outputs\n",
    "    univ_func1([1, 2, 3, 4, 5])\n",
    "    ---\n",
    "    univ_func2 = np.frompyfunc(str, nin=1, nout=1)\n",
    "    univ_func2([1, 2.2, 3, 'a'])"
   ]
  },
  {
   "cell_type": "markdown",
   "id": "333d49a2-5ac7-474a-bc50-44a4c88d31f1",
   "metadata": {},
   "source": [
    "<h1 style=\"font-size:60px;font-weight:bold;\">piecewise</h1>\n",
    "\n",
    "    - evaluate a piecewise-defined function on an array or a scalar\n",
    "    - arguments: x, condlist and funclist\n",
    "        + x: input domain, which can be an array or a scalar\n",
    "        + condlist: list of boolean arrays or scalars that specify the conditions for each piece\n",
    "        + funclist: list of functions or scalars that specify the values for each piece\n",
    "    \n",
    "    def function(x):\n",
    "        return np.piecewise(x, [x < 2, (x >= 2) & (x < 4), x >= 4], [-100, lambda x: x + 1, 100])\n",
    "    function(np.array([0, 1, 2, 3, 4, 5]))"
   ]
  }
 ],
 "metadata": {
  "kernelspec": {
   "display_name": "Python 3 (ipykernel)",
   "language": "python",
   "name": "python3"
  },
  "language_info": {
   "codemirror_mode": {
    "name": "ipython",
    "version": 3
   },
   "file_extension": ".py",
   "mimetype": "text/x-python",
   "name": "python",
   "nbconvert_exporter": "python",
   "pygments_lexer": "ipython3",
   "version": "3.11.7"
  }
 },
 "nbformat": 4,
 "nbformat_minor": 5
}
