{
 "cells": [
  {
   "cell_type": "markdown",
   "id": "623aa371-0cba-479b-a2d2-6ccab6b0c1f4",
   "metadata": {},
   "source": [
    "<h1 style=\"font-size:60px;font-weight:bold;\">Sorting</h1>\n",
    "\n",
    "# - sort\n",
    "- return a new ndarray\n",
    "```\n",
    "np.sort([[4, 2], [1, 3]])\n",
    "np.sort([[4, 2], [1, 3]], axis=None)\n",
    "---\n",
    "a = np.array([[4, 2], [1, 3]])\n",
    "np.sort(a) # order of a unchanged\n",
    "b = np.sort(a)\n",
    "a[0,0] = 0; b\n",
    "```\n",
    "- return None, change order of a\n",
    "```\n",
    "a = np.array([[4, 2], [1, 3]])\n",
    "a.sort()\n",
    "```\n",
    "# - lexsort\n",
    "```\n",
    "# combine a, b. sort after a first, then b\n",
    "a = np.array([9, 4, 0, 4])\n",
    "b = np.array([1, 2, 1, 3])\n",
    "---\n",
    "ind = np.lexsort((b, a))\n",
    "[(a[i],b[i]) for i in ind]\n",
    "np.take(a, ind)\n",
    "```\n",
    "# - argsort\n",
    "    - return the indices that would sort an array along a given axis\n",
    "    - work with real/complex arrays containing nan values\n",
    "```\n",
    "a = np.array([5.4, -np.inf, np.nan, -3.2])\n",
    "ind = np.argsort(a)\n",
    "np.take(a, ind)\n",
    "```\n",
    "# - partition\n",
    "    return a partitioned copy of an array along a given axis such that the value of the element in k-th position is in the position it would be in a sorted array\n",
    "```\n",
    "np.partition([9, 4, 0, 1, 3, 0, 1, 2, 5], 3) # chua hieu\n",
    "```"
   ]
  },
  {
   "cell_type": "markdown",
   "id": "d6a6dbfe-beea-4cef-a348-64bde7d3641f",
   "metadata": {},
   "source": [
    "<h1 style=\"font-size:60px;font-weight:bold;\">Searching</h1>\n",
    "\n",
    "# - argmax, argmin, argwhere\n",
    "    nanargmax, nanargmin for ignoring np.nan\n",
    "```\n",
    "np.argmax([[0, 1, 2], [3, 4, 5]])\n",
    "np.argmax([[0, 1, 2], [3, 4, 5]], axis=0)\n",
    "np.argmin([[0, 1, 2], [3, 4, 5]])\n",
    "np.argmin([[0, 1, 2], [3, 4, 5]], axis=1)\n",
    "a = np.array([[0, 1, 2], [3, 4, 5]])\n",
    "np.argwhere(a>0)\n",
    "# explain: return the index of non-zero element\n",
    "```\n",
    "# - nonzero, flatnonzero\n",
    "```\n",
    "np.nonzero([[0, 1, 2], [3, 4, 5]])\n",
    "# explain: (0, 1), (0, 2), (1, 0), (1, 1), (1, 2) are index where elements are non-zero.\n",
    "np.flatnonzero([[0,1], [0,2]])\n",
    "# explain: first flatten [0,1,0,2], then show the index [1,2]\n",
    "```\n",
    "# - where, searchsorted, extract\n",
    "```\n",
    "a = np.array([[-1, 2, 3], [4, 2, 9]])\n",
    "np.where(a > 2)\n",
    "# explain: (0, 2), (1, 0), (1, 2) are index where elements > 2\n",
    "np.where(a > 2, a * 2, a)\n",
    "# explain: 3, 4, 9 > 2, then they are multiplied with 2, others remain unchanged\n",
    "---\n",
    "a = np.array([1, 2, 6, 4])\n",
    "np.searchsorted(a, [3, 5])\n",
    "# explain: 3 inserted at the position 2, 5 at 4, so that the new [1, 2, 3, 6, 4, 5] remain the order\n",
    "---\n",
    "a = np.array([[0, 1, 2], [3, 4, 5]])\n",
    "np.extract(a > 1, a)\n",
    "# explain: extract 2, 3, 4, 5 because they > 1\n",
    "```"
   ]
  },
  {
   "cell_type": "markdown",
   "id": "5b4c2dab-984c-4e45-b8e8-9ec39a4db735",
   "metadata": {},
   "source": [
    "<h1 style=\"font-size:60px;font-weight:bold;\">Counting</h1>\n",
    "\n",
    "```\n",
    "np.count_nonzero([[0, 1, 2], [3, 4, 5]])\n",
    "np.count_nonzero([[0, 1, 2], [3, 4, 5]], axis=0)\n",
    "```"
   ]
  }
 ],
 "metadata": {
  "kernelspec": {
   "display_name": "Python 3 (ipykernel)",
   "language": "python",
   "name": "python3"
  },
  "language_info": {
   "codemirror_mode": {
    "name": "ipython",
    "version": 3
   },
   "file_extension": ".py",
   "mimetype": "text/x-python",
   "name": "python",
   "nbconvert_exporter": "python",
   "pygments_lexer": "ipython3",
   "version": "3.11.7"
  }
 },
 "nbformat": 4,
 "nbformat_minor": 5
}
