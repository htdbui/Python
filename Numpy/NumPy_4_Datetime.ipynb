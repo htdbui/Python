{
 "cells": [
  {
   "cell_type": "markdown",
   "id": "0f25f733-2886-4ab9-a891-de905df1df45",
   "metadata": {},
   "source": [
    "# - Create a Datetime\n",
    "```\n",
    "a = np.array(['2023-04-03', '2023-03-11T11:45:45'], dtype='datetime64') # T means 24h\n",
    "np.datetime_as_string(a)\n",
    "np.datetime_as_string(a, unit='D')\n",
    "np.datetime_data(a.dtype)\n",
    "```"
   ]
  },
  {
   "cell_type": "markdown",
   "id": "698b4293-3365-429d-aa67-e07f08d05910",
   "metadata": {},
   "source": [
    "# - Functions\n",
    "## + Create a Calendar\n",
    "```\n",
    "cal = np.busdaycalendar(weekmask='1111110', holidays=['2023-01-01'])\n",
    "# weekmask='1111110' mean Monday, Tuesday, Wednesday, Thursday, Friday, Saturday are valid. Sunday is not.\n",
    "```\n",
    "## + Check business day\n",
    "```\n",
    "np.is_busday(['2023-01-01', '2022-01-01'], busdaycal=cal)\n",
    "```\n",
    "## + Calculate days between two dates\n",
    "```\n",
    "np.busday_count('2023-01-01', '2023-02-01', busdaycal=cal)\n",
    "```\n",
    "## + Add business days\n",
    "```\n",
    "np.busday_offset('2022-12-30', 5, busdaycal=cal)\n",
    "```"
   ]
  }
 ],
 "metadata": {
  "kernelspec": {
   "display_name": "Python 3 (ipykernel)",
   "language": "python",
   "name": "python3"
  },
  "language_info": {
   "codemirror_mode": {
    "name": "ipython",
    "version": 3
   },
   "file_extension": ".py",
   "mimetype": "text/x-python",
   "name": "python",
   "nbconvert_exporter": "python",
   "pygments_lexer": "ipython3",
   "version": "3.10.6"
  }
 },
 "nbformat": 4,
 "nbformat_minor": 5
}
